{
 "cells": [
  {
   "cell_type": "markdown",
   "metadata": {},
   "source": [
    "# Introduction"
   ]
  },
  {
   "cell_type": "markdown",
   "metadata": {},
   "source": [
    "<h2>Installation</h2>"
   ]
  },
  {
   "cell_type": "markdown",
   "metadata": {},
   "source": [
    "The best way to learn Python is practice it interactively. There are many ways you can run and learn python interactively such as using **Jupyter-Notebook**, **Jupyter-qtconsole**, **Google-Colab**, **IPython**, and so on. Jupyter-Notebook is one of the bests. It's user-friendly nature, interactive plotting, interactive coding and documenting the code make it the most popular one. So, let's install it first."
   ]
  },
  {
   "cell_type": "markdown",
   "metadata": {},
   "source": [
    "- Download Anaconda Installer from <a href=\"https://repo.anaconda.com/archive/Anaconda3-2020.07-Linux-x86_64.sh\"> the official site</a>.\n",
    "- Run the downloaded script <span class=\"mark\"><span class=\"burk\">Anaconda3-2020.02-Linux-x86_64.sh</span></span> to install.\n",
    "- To install Jupyter-Notebook, do <span class=\"mark\"><span class=\"burk\">conda install -c anaconda jupyter</span></span>"
   ]
  },
  {
   "cell_type": "markdown",
   "metadata": {},
   "source": [
    "**How to lunch a notebook:** just type **jupyter-notebook** in a terminal."
   ]
  },
  {
   "cell_type": "markdown",
   "metadata": {},
   "source": [
    "<h2>Notebook Menu and Shortcuts</h2>\n",
    "    "
   ]
  },
  {
   "cell_type": "markdown",
   "metadata": {},
   "source": [
    "In notebook, you can write code or documentation in a box called **Cell**."
   ]
  },
  {
   "cell_type": "markdown",
   "metadata": {},
   "source": [
    "You can interact with notebook in two modes\n",
    "- edit mode: The cell appears green\n",
    "- command mode: The cell appears blue <br>\n",
    "\n",
    "To go from edit to command mode in a particular cell **Click Esc** button and **Click Enter** button for the opposite."
   ]
  },
  {
   "cell_type": "markdown",
   "metadata": {},
   "source": [
    "<h3>Menu</h3>"
   ]
  },
  {
   "cell_type": "markdown",
   "metadata": {},
   "source": [
    "<img src='./1.png'>"
   ]
  },
  {
   "cell_type": "markdown",
   "metadata": {},
   "source": [
    "- The notebook can be named at the **Top Left** corner. Now, it's name is **DAY1**. A notebook file has an extension **.ipynb** .\n",
    "- By expanding **File** tabm, you can find ***download as***. And you can download the notebook in various file format, including PDF, HTML, PY, and so on.\n",
    "- You can interrupt a running code from **Kernel** tab in the menu.\n",
    "- The bar in the right-down corner tells the type of the cell. Now it is **Markdown**. You can shift between code and markdown cell using this menu bar.\n",
    "- All the things that can be done by clicking on the menu bar can also be done using short-cut keys, which is going to be discussed in the following section."
   ]
  },
  {
   "cell_type": "markdown",
   "metadata": {},
   "source": [
    "<h3>Shortcuts</h3>"
   ]
  },
  {
   "cell_type": "markdown",
   "metadata": {},
   "source": [
    "Click <br>\n",
    "- ***a*** to create a new cell above in *command mode*.\n",
    "- ***b*** to create a new cell below in *command mode*.\n",
    "- ***dd*** to delete a cell *command mode*.\n",
    "- ***Ctrl+c*** to copy content an entire cell *command mode*.\n",
    "- ***Ctrl+v*** to paste the copies content in a cell in *edit mode*.\n",
    "- ***m*** to shift a cell from code to markdown and ***y*** for the opposite in *command mode*.\n",
    "- ***Shift+Enter*** to run the current cell and go to next cell in *both mode*.\n",
    "- ***Ctrl+Enter*** to run the current cell and stay in the same cell in *both mode*."
   ]
  },
  {
   "cell_type": "markdown",
   "metadata": {},
   "source": [
    "<h3>Python Help</h3>"
   ]
  },
  {
   "cell_type": "markdown",
   "metadata": {},
   "source": [
    "- To get help of any python module, you can type *that_module?* and run the cell. It will display the documentation about that_module.\n",
    "- Alternatively you can also type *help(that_module)* and run the cell."
   ]
  },
  {
   "cell_type": "markdown",
   "metadata": {},
   "source": [
    "\n",
    "<h3>Shell Magic</h3>"
   ]
  },
  {
   "cell_type": "markdown",
   "metadata": {},
   "source": [
    "- *%lsmagic* will list out all the magic command.\n",
    "- Out the magic command, *%%bash* magic command is very useful. \n",
    " - With *%%bash* keeping the first line of any code cell will behave as a bash cell. You can do bash scripting in that specific cell.\n",
    " - Also by adding \"!\" or \"%\" before a shell command you can run them in a code cell. For example you can do %ls and list all the file in the present directory.\n",
    "- by typing *%matplotlib inline* once in a cell, you can show plots in the notebook."
   ]
  },
  {
   "cell_type": "markdown",
   "metadata": {},
   "source": [
    "<h3>Markdown Basics</h3>"
   ]
  },
  {
   "cell_type": "markdown",
   "metadata": {},
   "source": [
    "In order to document a code properly and explain certain concepts using mathematical equations, images and videos, Jupyter-Notebook support **Markdown** language. Please refer to <a href='https://github.com/SSN100/Basic-Notes/blob/master/Markdown_Basics/Markdown.ipynb'> Markdown Basic </a> notes to know about the usage of Markdown in Notebook."
   ]
  }
 ],
 "metadata": {
  "kernelspec": {
   "display_name": "Python 3",
   "language": "python",
   "name": "python3"
  },
  "language_info": {
   "codemirror_mode": {
    "name": "ipython",
    "version": 3
   },
   "file_extension": ".py",
   "mimetype": "text/x-python",
   "name": "python",
   "nbconvert_exporter": "python",
   "pygments_lexer": "ipython3",
   "version": "3.9.1"
  },
  "toc": {
   "base_numbering": 1,
   "nav_menu": {},
   "number_sections": true,
   "sideBar": true,
   "skip_h1_title": false,
   "title_cell": "Table of Contents",
   "title_sidebar": "Contents",
   "toc_cell": false,
   "toc_position": {
    "height": "calc(100% - 180px)",
    "left": "10px",
    "top": "150px",
    "width": "321.594px"
   },
   "toc_section_display": true,
   "toc_window_display": false
  }
 },
 "nbformat": 4,
 "nbformat_minor": 4
}
